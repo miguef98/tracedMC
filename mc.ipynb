{
 "cells": [
  {
   "cell_type": "code",
   "execution_count": null,
   "metadata": {},
   "outputs": [],
   "source": [
    "from mc import generateSurface, df, cubeVertexs, cubeCenterVertex, tracedMarchingCubes, genGrid\n",
    "import meshplot as mp\n",
    "import numpy as np"
   ]
  },
  {
   "cell_type": "code",
   "execution_count": null,
   "metadata": {},
   "outputs": [],
   "source": [
    "N = 64\n",
    "d, ev, en, p = cubeVertexs( N, df, surfaceThresh=0.0045 )\n",
    "\n",
    "cubeCenterVertex( d, ev, en,N, threshold=0.1 )\n",
    "v,t = generateSurface( d, p )"
   ]
  },
  {
   "cell_type": "code",
   "execution_count": null,
   "metadata": {},
   "outputs": [],
   "source": [
    "mp.plot(v,t)"
   ]
  },
  {
   "cell_type": "code",
   "execution_count": null,
   "metadata": {},
   "outputs": [],
   "source": [
    "edgeVertexs =  [np.concatenate( [ev[ edge ] for edge in cubeIdx['edgeVertexIndexs'].values()] )for cubeIdx in d.values() ]\n",
    "edgeNormals =  [np.concatenate( [en[ edge ] for edge in cubeIdx['edgeVertexIndexs'].values()] )for cubeIdx in d.values() ]\n",
    "vertexs = np.array([ i['vertex'] for i in d.values() ] )\n",
    "len(edgeVertexs)"
   ]
  },
  {
   "cell_type": "code",
   "execution_count": null,
   "metadata": {},
   "outputs": [],
   "source": [
    "I = 11\n",
    "p = mp.plot(edgeVertexs[I], shading={'point_size':0.17}, return_plot=True)\n",
    "p.add_lines( edgeVertexs[I], edgeNormals[I] )\n",
    "p.add_points( ev, shading={'point_color': 'blue', 'point_size':0.1})\n",
    "p.add_points( np.array( [vertexs[I]] ), shading={'point_color':'orange', 'point_size':0.3})\n",
    "#p.add_points( (np.sum( edgeVertexs[I], axis=0 ) / len(edgeVertexs[I]))[None,...], shading={'point_color':'lightblue', 'point_size':0.1})"
   ]
  },
  {
   "cell_type": "code",
   "execution_count": null,
   "metadata": {},
   "outputs": [],
   "source": [
    "P = np.random.uniform( 0,1, (3,3))\n",
    "print(P)\n",
    "\n",
    "print( np.eye(3,3) + (P < 0.1 ), '\\n',(P < 0.1 ))"
   ]
  },
  {
   "cell_type": "code",
   "execution_count": null,
   "metadata": {},
   "outputs": [],
   "source": [
    "v,t = tracedMarchingCubes( 16, surfaceThresh=0.0045 )\n",
    "mp.plot(v,t)"
   ]
  },
  {
   "cell_type": "code",
   "execution_count": null,
   "metadata": {},
   "outputs": [],
   "source": [
    "grid = np.concatenate( [ genGrid( 8, i ) for i in range(3) ], axis=0)\n",
    "\n",
    "p = mp.plot(grid, shading={'point_size':0.2}, return_plot=True)\n",
    "p.add_points( grid[64 + 8: 64 + 12, :], shading={'point_color':'blue','point_size':0.2})\n",
    "p.add_lines( np.zeros((3,3)), np.array([[1,0,0],[0,1,0],[0,0,1]]))\n"
   ]
  },
  {
   "cell_type": "code",
   "execution_count": null,
   "metadata": {},
   "outputs": [],
   "source": [
    "N = 8\n",
    "x,y=np.meshgrid( np.arange(N),np.arange(N), indexing='ij' )\n",
    "np.concatenate( [x[...,None], y[...,None]], axis=2 )"
   ]
  }
 ],
 "metadata": {
  "kernelspec": {
   "display_name": "graficos3.9",
   "language": "python",
   "name": "python3"
  },
  "language_info": {
   "codemirror_mode": {
    "name": "ipython",
    "version": 3
   },
   "file_extension": ".py",
   "mimetype": "text/x-python",
   "name": "python",
   "nbconvert_exporter": "python",
   "pygments_lexer": "ipython3",
   "version": "3.10.12"
  }
 },
 "nbformat": 4,
 "nbformat_minor": 2
}
