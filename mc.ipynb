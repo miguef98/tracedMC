{
 "cells": [
  {
   "cell_type": "code",
   "execution_count": 1,
   "metadata": {},
   "outputs": [],
   "source": [
    "from mc import generateSurface, df, cubeVertexs, cubeCenterVertex, tracedMarchingCubes, genGrid\n",
    "import meshplot as mp\n",
    "import numpy as np"
   ]
  },
  {
   "cell_type": "code",
   "execution_count": 14,
   "metadata": {},
   "outputs": [],
   "source": [
    "N = 128\n",
    "d, edgevertexs, edgenormals, polis = cubeVertexs( N, df, surfaceThresh=0.002 )"
   ]
  },
  {
   "cell_type": "code",
   "execution_count": 15,
   "metadata": {},
   "outputs": [],
   "source": [
    "cubeCenterVertex( d, edgevertexs, edgenormals, N, threshold=0.1 )\n",
    "v,t = generateSurface( d, polis )"
   ]
  },
  {
   "cell_type": "code",
   "execution_count": 16,
   "metadata": {},
   "outputs": [
    {
     "data": {
      "application/vnd.jupyter.widget-view+json": {
       "model_id": "2fcd3b6d44604681a17b3f91dbd949b6",
       "version_major": 2,
       "version_minor": 0
      },
      "text/plain": [
       "Renderer(camera=PerspectiveCamera(children=(DirectionalLight(color='white', intensity=0.6, position=(0.0001633…"
      ]
     },
     "metadata": {},
     "output_type": "display_data"
    },
    {
     "data": {
      "text/plain": [
       "<meshplot.Viewer.Viewer at 0x7f2a587d97b0>"
      ]
     },
     "execution_count": 16,
     "metadata": {},
     "output_type": "execute_result"
    }
   ],
   "source": [
    "mp.plot(v,t)"
   ]
  },
  {
   "cell_type": "code",
   "execution_count": null,
   "metadata": {},
   "outputs": [],
   "source": [
    "import matplotlib.pyplot as plt\n",
    "plt.hist( [ len(i['edgeVertexIndexs']) for i in d.values() ], bins=np.arange(0,12) )\n",
    "plt.hist( [ i['X'].shape[0] for i in d.values() ], bins=np.arange(0,12))\n",
    "plt.show()"
   ]
  },
  {
   "cell_type": "code",
   "execution_count": null,
   "metadata": {},
   "outputs": [],
   "source": [
    "edgeVertexs =  [np.concatenate( [edgevertexs[ edge ] for edge in cubeIdx['edgeVertexIndexs'].values()] )for cubeIdx in d.values() ]\n",
    "edgeNormals =  [np.concatenate( [edgenormals[ edge ] for edge in cubeIdx['edgeVertexIndexs'].values()] )for cubeIdx in d.values() ]\n",
    "#edgeEigenvalues =  [np.concatenate( [eigenvals[ edge ] for edge in cubeIdx['edgeVertexIndexs'].values()] )for cubeIdx in d.values() ]\n",
    "\n",
    "edgeVertexsUsadas =  [ cubeIdx['X']for cubeIdx in d.values() ]\n",
    "edgeNormalsUsadas =  [ cubeIdx['A']for cubeIdx in d.values() ]\n",
    "vertexs = np.array([ i['vertex'] for i in d.values() ] )\n",
    "len(edgeVertexs)"
   ]
  },
  {
   "cell_type": "code",
   "execution_count": null,
   "metadata": {},
   "outputs": [],
   "source": [
    "import matplotlib.pyplot as plt\n",
    "plt.hist(eigenvals)\n",
    "plt.show()"
   ]
  },
  {
   "cell_type": "code",
   "execution_count": null,
   "metadata": {},
   "outputs": [],
   "source": [
    "np.min(eigenvals), np.max(eigenvals)"
   ]
  },
  {
   "cell_type": "code",
   "execution_count": null,
   "metadata": {},
   "outputs": [],
   "source": [
    "I = 5\n",
    "p = mp.plot(edgeVertexsUsadas[I],shading={'point_size':0.17, 'point_color':'black'}, return_plot=True)\n",
    "p.add_points(edgeVertexs[I],  shading={'point_size':0.13, 'point_color':'red'})\n",
    "p.add_lines( edgeVertexs[I], edgeNormals[I] )\n",
    "p.add_points( edgevertexs, c=eigenvals, shading={'point_size':0.1})\n",
    "\n",
    "p.add_points( np.array( [vertexs[I]] ), shading={'point_color':'orange', 'point_size':0.3})\n",
    "#p.add_points( (np.sum( edgeVertexs[I], axis=0 ) / len(edgeVertexs[I]))[None,...], shading={'point_color':'lightblue', 'point_size':0.1})"
   ]
  },
  {
   "cell_type": "code",
   "execution_count": null,
   "metadata": {},
   "outputs": [],
   "source": [
    "v,t = tracedMarchingCubes( 16, surfaceThresh=0.0045 )\n",
    "mp.plot(v,t)"
   ]
  },
  {
   "cell_type": "code",
   "execution_count": null,
   "metadata": {},
   "outputs": [],
   "source": [
    "grid = np.concatenate( [ genGrid( 8, i ) for i in range(3) ], axis=0)\n",
    "\n",
    "p = mp.plot(grid, shading={'point_size':0.2}, return_plot=True)\n",
    "p.add_points( grid[64 + 8: 64 + 12, :], shading={'point_color':'blue','point_size':0.2})\n",
    "p.add_lines( np.zeros((3,3)), np.array([[1,0,0],[0,1,0],[0,0,1]]))\n"
   ]
  },
  {
   "cell_type": "code",
   "execution_count": null,
   "metadata": {},
   "outputs": [],
   "source": [
    "N = 8\n",
    "x,y=np.meshgrid( np.arange(N),np.arange(N), indexing='ij' )\n",
    "np.concatenate( [x[...,None], y[...,None]], axis=2 )"
   ]
  },
  {
   "cell_type": "code",
   "execution_count": null,
   "metadata": {},
   "outputs": [],
   "source": [
    "import trimesh as tm\n",
    "mesh = tm.Trimesh(v,t)\n",
    "mesh.export('beetle_256.obj')"
   ]
  }
 ],
 "metadata": {
  "kernelspec": {
   "display_name": "graficos3.9",
   "language": "python",
   "name": "python3"
  },
  "language_info": {
   "codemirror_mode": {
    "name": "ipython",
    "version": 3
   },
   "file_extension": ".py",
   "mimetype": "text/x-python",
   "name": "python",
   "nbconvert_exporter": "python",
   "pygments_lexer": "ipython3",
   "version": "3.10.12"
  }
 },
 "nbformat": 4,
 "nbformat_minor": 2
}
