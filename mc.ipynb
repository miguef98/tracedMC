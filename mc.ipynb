{
 "cells": [
  {
   "cell_type": "code",
   "execution_count": null,
   "metadata": {},
   "outputs": [],
   "source": [
    "import numpy as np"
   ]
  },
  {
   "cell_type": "code",
   "execution_count": null,
   "metadata": {},
   "outputs": [],
   "source": [
    "N = 32\n",
    "x = np.ones( (N,N) ) * -1\n",
    "y, z = np.linspace(-1,1,N),np.linspace(-1,1,N)\n",
    "ys, zs = np.meshgrid( y,z)\n",
    "\n",
    "x0s = np.concatenate( [x[...,None],ys[...,None],zs[...,None]], axis=2).reshape(N**2, 3)"
   ]
  },
  {
   "cell_type": "code",
   "execution_count": null,
   "metadata": {},
   "outputs": [],
   "source": [
    "celdas = {}\n",
    "# almaceno (i,j,k) que son los indices de cada celda"
   ]
  },
  {
   "cell_type": "code",
   "execution_count": null,
   "metadata": {},
   "outputs": [],
   "source": [
    "def sdf( x ):\n",
    "    return np.linalg.norm( x, axis=1 )[...,None] - 0.5"
   ]
  },
  {
   "cell_type": "code",
   "execution_count": null,
   "metadata": {},
   "outputs": [],
   "source": [
    "def indices_celdas( s1 ):\n",
    "    offsets = np.array([\n",
    "        [0,0,0],\n",
    "        [0,-1,0],\n",
    "        [0,0,1],\n",
    "        [0,-1,1]\n",
    "    ])\n",
    "\n",
    "    return np.repeat(s1, 4, axis=0) + np.tile( offsets, (len(s1),1))"
   ]
  },
  {
   "cell_type": "code",
   "execution_count": null,
   "metadata": {},
   "outputs": [],
   "source": [
    "def actualizar_dict( d, idxs, vertexs, normals ):\n",
    "    for i,v,n in zip(idxs,vertexs,normals):\n",
    "        if tuple(i) in d:\n",
    "            d[tuple(i)]['vertexs'].append( v )\n",
    "            d[tuple(i)]['normals'].append( n )\n",
    "        else:\n",
    "            d[tuple(i)] = { 'vertexs': [ v ], 'normals': [n] }            \n",
    "    "
   ]
  },
  {
   "cell_type": "code",
   "execution_count": null,
   "metadata": {},
   "outputs": [],
   "source": [
    "indices = np.concatenate( np.array(np.meshgrid( np.arange(N), np.arange(N)))[...,None], axis=2 )\n",
    "distancias = np.abs( sdf(x0s) ).reshape((N,N))\n",
    "jks = indices[ (distancias < 1) ]\n",
    "\n",
    "jks"
   ]
  },
  {
   "cell_type": "code",
   "execution_count": null,
   "metadata": {},
   "outputs": [],
   "source": [
    "vivos = np.ones( N**2,dtype=bool)\n",
    "indices = np.concatenate( np.array(np.meshgrid( np.arange(N), np.arange(N)))[...,None], axis=2 )\n",
    "EPS = 1e-5\n",
    "\n",
    "while np.sum(vivos) > 0:\n",
    "    print(np.sum(vivos))\n",
    "    distancias = np.abs( sdf(x0s) )\n",
    "    x0s[...,0][...,None] += distancias\n",
    "    vivos *= x0s[..., 0] < 1\n",
    "\n",
    "    mascara_distancias = (distancias.flatten() < EPS) * vivos\n",
    "\n",
    "    impactos = x0s[ mascara_distancias ]\n",
    "    jks = indices[ (mascara_distancias).reshape((N,N)) ]\n",
    "    i = np.floor(( impactos[...,0] + 1) / 2 * N).astype(np.uint16)\n",
    "\n",
    "    aristas_impactadas = np.concatenate( [i[...,None] , jks ], axis=-1)\n",
    "    celdas_impactadas = indices_celdas( aristas_impactadas )\n",
    "    \n",
    "    actualizar_dict( \n",
    "        celdas, \n",
    "        celdas_impactadas, \n",
    "        np.repeat(impactos, 4, axis=0), \n",
    "        np.repeat( impactos / np.linalg.norm(impactos, axis=-1)[...,None],4, axis=0) \n",
    "    )\n",
    "\n",
    "    \n",
    "    x0s[mascara_distancias, 0] = np.ones( np.sum(mascara_distancias) ) * -1 + (i+1.01) * (2 / N)\n",
    "    \n",
    "    "
   ]
  },
  {
   "cell_type": "code",
   "execution_count": null,
   "metadata": {},
   "outputs": [],
   "source": [
    "a = np.array( [[0,1],[1,2],[2,3]])\n",
    "\n",
    "a[...,0][...,None]"
   ]
  },
  {
   "cell_type": "code",
   "execution_count": null,
   "metadata": {},
   "outputs": [],
   "source": [
    "celdas"
   ]
  },
  {
   "cell_type": "code",
   "execution_count": null,
   "metadata": {},
   "outputs": [],
   "source": [
    "from mc import generateSurface, sdf, cubeVertexs, cubeCenterVertex, tracedMarchingCubes\n",
    "import meshplot as mp\n",
    "import numpy as np"
   ]
  },
  {
   "cell_type": "code",
   "execution_count": null,
   "metadata": {},
   "outputs": [],
   "source": [
    "d, ev, p = cubeVertexs( 12, sdf, surfaceThresh=1e-5 )\n",
    "cubeCenterVertex( d, ev )\n",
    "\n",
    "v,t = generateSurface( d, p )"
   ]
  },
  {
   "cell_type": "code",
   "execution_count": null,
   "metadata": {},
   "outputs": [],
   "source": [
    "edgeVertexs = [ ev[ i['edgeVertexIndexs']] for i in d.values() ]\n",
    "#vertexs = np.array([ i['vertex'] for i in d.values() ] )"
   ]
  },
  {
   "cell_type": "code",
   "execution_count": null,
   "metadata": {},
   "outputs": [],
   "source": [
    "len(edgeVertexs)"
   ]
  },
  {
   "cell_type": "code",
   "execution_count": null,
   "metadata": {},
   "outputs": [],
   "source": [
    "p = mp.plot(edgeVertexs[12], shading={'point_size':0.1}, return_plot=True)\n",
    "#p.add_lines( vertexs, normals )\n",
    "p.add_points( ev, shading={'point_color': 'blue', 'point_size':0.05})"
   ]
  },
  {
   "cell_type": "code",
   "execution_count": null,
   "metadata": {},
   "outputs": [],
   "source": [
    "mp.plot(v,t)"
   ]
  },
  {
   "cell_type": "code",
   "execution_count": null,
   "metadata": {},
   "outputs": [],
   "source": [
    "v,t= tracedMarchingCubes(16)\n",
    "mp.plot(v,t)"
   ]
  },
  {
   "cell_type": "code",
   "execution_count": null,
   "metadata": {},
   "outputs": [],
   "source": [
    "import trimesh as tm\n",
    "\n",
    "m = tm.Trimesh( v, t )\n",
    "m.export('esfera.obj')\n",
    "\n"
   ]
  },
  {
   "cell_type": "code",
   "execution_count": null,
   "metadata": {},
   "outputs": [],
   "source": [
    "len(v)"
   ]
  }
 ],
 "metadata": {
  "kernelspec": {
   "display_name": "graficos3.9",
   "language": "python",
   "name": "python3"
  },
  "language_info": {
   "codemirror_mode": {
    "name": "ipython",
    "version": 3
   },
   "file_extension": ".py",
   "mimetype": "text/x-python",
   "name": "python",
   "nbconvert_exporter": "python",
   "pygments_lexer": "ipython3",
   "version": "3.8.13"
  }
 },
 "nbformat": 4,
 "nbformat_minor": 2
}
