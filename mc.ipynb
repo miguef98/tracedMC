{
 "cells": [
  {
   "cell_type": "code",
   "execution_count": null,
   "metadata": {},
   "outputs": [],
   "source": [
    "import numpy as np"
   ]
  },
  {
   "cell_type": "code",
   "execution_count": null,
   "metadata": {},
   "outputs": [],
   "source": [
    "N = 32\n",
    "x = np.ones( (N,N) ) * -1\n",
    "y, z = np.linspace(-1,1,N),np.linspace(-1,1,N)\n",
    "ys, zs = np.meshgrid( y,z)\n",
    "\n",
    "x0s = np.concatenate( [x[...,None],ys[...,None],zs[...,None]], axis=2).reshape(N**2, 3)"
   ]
  },
  {
   "cell_type": "code",
   "execution_count": null,
   "metadata": {},
   "outputs": [],
   "source": [
    "celdas = {}\n",
    "# almaceno (i,j,k) que son los indices de cada celda"
   ]
  },
  {
   "cell_type": "code",
   "execution_count": null,
   "metadata": {},
   "outputs": [],
   "source": [
    "def sdf( x ):\n",
    "    return np.linalg.norm( x, axis=1 )[...,None] - 0.5"
   ]
  },
  {
   "cell_type": "code",
   "execution_count": null,
   "metadata": {},
   "outputs": [],
   "source": [
    "def indices_celdas( s1 ):\n",
    "    offsets = np.array([\n",
    "        [0,0,0],\n",
    "        [0,-1,0],\n",
    "        [0,0,1],\n",
    "        [0,-1,1]\n",
    "    ])\n",
    "\n",
    "    return np.repeat(s1, 4, axis=0) + np.tile( offsets, (len(s1),1))"
   ]
  },
  {
   "cell_type": "code",
   "execution_count": null,
   "metadata": {},
   "outputs": [],
   "source": [
    "def actualizar_dict( d, idxs, vertexs, normals ):\n",
    "    for i,v,n in zip(idxs,vertexs,normals):\n",
    "        if tuple(i) in d:\n",
    "            d[tuple(i)]['vertexs'].append( v )\n",
    "            d[tuple(i)]['normals'].append( n )\n",
    "        else:\n",
    "            d[tuple(i)] = { 'vertexs': [ v ], 'normals': [n] }            \n",
    "    "
   ]
  },
  {
   "cell_type": "code",
   "execution_count": null,
   "metadata": {},
   "outputs": [],
   "source": [
    "indices = np.concatenate( np.array(np.meshgrid( np.arange(N), np.arange(N)))[...,None], axis=2 )\n",
    "distancias = np.abs( sdf(x0s) ).reshape((N,N))\n",
    "jks = indices[ (distancias < 1) ]\n",
    "\n",
    "jks"
   ]
  },
  {
   "cell_type": "code",
   "execution_count": null,
   "metadata": {},
   "outputs": [],
   "source": [
    "vivos = np.ones( N**2,dtype=bool)\n",
    "indices = np.concatenate( np.array(np.meshgrid( np.arange(N), np.arange(N)))[...,None], axis=2 )\n",
    "EPS = 1e-5\n",
    "\n",
    "while np.sum(vivos) > 0:\n",
    "    print(np.sum(vivos))\n",
    "    distancias = np.abs( sdf(x0s) )\n",
    "    x0s[...,0][...,None] += distancias\n",
    "    vivos *= x0s[..., 0] < 1\n",
    "\n",
    "    mascara_distancias = (distancias.flatten() < EPS) * vivos\n",
    "\n",
    "    impactos = x0s[ mascara_distancias ]\n",
    "    jks = indices[ (mascara_distancias).reshape((N,N)) ]\n",
    "    i = np.floor(( impactos[...,0] + 1) / 2 * N).astype(np.uint16)\n",
    "\n",
    "    aristas_impactadas = np.concatenate( [i[...,None] , jks ], axis=-1)\n",
    "    celdas_impactadas = indices_celdas( aristas_impactadas )\n",
    "    \n",
    "    actualizar_dict( \n",
    "        celdas, \n",
    "        celdas_impactadas, \n",
    "        np.repeat(impactos, 4, axis=0), \n",
    "        np.repeat( impactos / np.linalg.norm(impactos, axis=-1)[...,None],4, axis=0) \n",
    "    )\n",
    "\n",
    "    \n",
    "    x0s[mascara_distancias, 0] = np.ones( np.sum(mascara_distancias) ) * -1 + (i+1.01) * (2 / N)\n",
    "    \n",
    "    "
   ]
  },
  {
   "cell_type": "code",
   "execution_count": null,
   "metadata": {},
   "outputs": [],
   "source": [
    "a = np.array( [[0,1],[1,2],[2,3]])\n",
    "\n",
    "a[...,0][...,None]"
   ]
  },
  {
   "cell_type": "code",
   "execution_count": null,
   "metadata": {},
   "outputs": [],
   "source": [
    "celdas"
   ]
  },
  {
   "cell_type": "code",
   "execution_count": 1,
   "metadata": {},
   "outputs": [],
   "source": [
    "from mc import generateSurface, sdf, cubeVertexs, cubeCenterVertex, tracedMarchingCubes, genGrid\n",
    "import meshplot as mp\n",
    "import numpy as np"
   ]
  },
  {
   "cell_type": "code",
   "execution_count": 2,
   "metadata": {},
   "outputs": [],
   "source": [
    "d, ev, p = cubeVertexs( 8, sdf, surfaceThresh=1e-5 )\n",
    "cubeCenterVertex( d, ev )\n",
    "\n",
    "v,t = generateSurface( d, p )"
   ]
  },
  {
   "cell_type": "code",
   "execution_count": 3,
   "metadata": {},
   "outputs": [],
   "source": [
    "edgeVertexs = [ ev[ i['edgeVertexIndexs']] for i in d.values() ]\n",
    "vertexs = np.array([ i['vertex'] for i in d.values() ] )"
   ]
  },
  {
   "cell_type": "code",
   "execution_count": null,
   "metadata": {},
   "outputs": [],
   "source": [
    "len(edgeVertexs)"
   ]
  },
  {
   "cell_type": "code",
   "execution_count": 4,
   "metadata": {},
   "outputs": [
    {
     "data": {
      "application/vnd.jupyter.widget-view+json": {
       "model_id": "e7cf71e1c4d3400bb66e0827e27755d5",
       "version_major": 2,
       "version_minor": 0
      },
      "text/plain": [
       "Renderer(camera=PerspectiveCamera(children=(DirectionalLight(color='white', intensity=0.6, position=(-0.178575…"
      ]
     },
     "metadata": {},
     "output_type": "display_data"
    },
    {
     "data": {
      "text/plain": [
       "2"
      ]
     },
     "execution_count": 4,
     "metadata": {},
     "output_type": "execute_result"
    }
   ],
   "source": [
    "I = 27\n",
    "p = mp.plot(edgeVertexs[I], shading={'point_size':0.17}, return_plot=True)\n",
    "#p.add_lines( vertexs, normals )\n",
    "p.add_points( ev, shading={'point_color': 'blue', 'point_size':0.1})\n",
    "p.add_points( np.array( [vertexs[I]] ), shading={'point_color':'orange', 'point_size':0.1})"
   ]
  },
  {
   "cell_type": "code",
   "execution_count": 11,
   "metadata": {},
   "outputs": [
    {
     "data": {
      "application/vnd.jupyter.widget-view+json": {
       "model_id": "0353b430f6104d74b2bc467f07c9e13b",
       "version_major": 2,
       "version_minor": 0
      },
      "text/plain": [
       "Renderer(camera=PerspectiveCamera(children=(DirectionalLight(color='white', intensity=0.6, position=(-2.980232…"
      ]
     },
     "metadata": {},
     "output_type": "display_data"
    },
    {
     "data": {
      "text/plain": [
       "<meshplot.Viewer.Viewer at 0x736710ed7f70>"
      ]
     },
     "execution_count": 11,
     "metadata": {},
     "output_type": "execute_result"
    }
   ],
   "source": [
    "v,t = tracedMarchingCubes( 32 )\n",
    "mp.plot(v,t)"
   ]
  },
  {
   "cell_type": "code",
   "execution_count": null,
   "metadata": {},
   "outputs": [],
   "source": [
    "grid = np.concatenate( [ genGrid( 8, i ) for i in range(3) ], axis=0)\n",
    "\n",
    "p = mp.plot(grid, shading={'point_size':0.2}, return_plot=True)\n",
    "p.add_points( grid[64 + 8: 64 + 12, :], shading={'point_color':'blue','point_size':0.2})\n",
    "p.add_lines( np.zeros((3,3)), np.array([[1,0,0],[0,1,0],[0,0,1]]))\n"
   ]
  },
  {
   "cell_type": "code",
   "execution_count": null,
   "metadata": {},
   "outputs": [],
   "source": [
    "N = 8\n",
    "x,y=np.meshgrid( np.arange(N),np.arange(N), indexing='ij' )\n",
    "np.concatenate( [x[...,None], y[...,None]], axis=2 )"
   ]
  }
 ],
 "metadata": {
  "kernelspec": {
   "display_name": "graficos3.9",
   "language": "python",
   "name": "python3"
  },
  "language_info": {
   "codemirror_mode": {
    "name": "ipython",
    "version": 3
   },
   "file_extension": ".py",
   "mimetype": "text/x-python",
   "name": "python",
   "nbconvert_exporter": "python",
   "pygments_lexer": "ipython3",
   "version": "3.8.13"
  }
 },
 "nbformat": 4,
 "nbformat_minor": 2
}
